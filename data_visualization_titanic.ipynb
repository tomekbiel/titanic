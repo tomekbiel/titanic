{
  "cells": [
    {
      "cell_type": "markdown",
      "metadata": {
        "id": "view-in-github"
      },
      "source": [
        "<a href=\"https://colab.research.google.com/drive/1Jatqk442GtSrCbYNj3Bitim1C-D7pqb6\" target=\"_parent\"><img src=\"https://colab.research.google.com/assets/colab-badge.svg\" alt=\"Open In Colab\"/></a>"
      ],
      "id": "view-in-github"
    },
    {
      "cell_type": "markdown",
      "metadata": {
        "id": "3QZPQyGHTVHa"
      },
      "source": [
        "# Titanic – Data Exploration & Visualisations"
      ],
      "id": "3QZPQyGHTVHa"
    },
    {
      "cell_type": "code",
      "metadata": {
        "id": "C0wPAE9mTVHa"
      },
      "source": [
        "import seaborn as sns, matplotlib.pyplot as plt, pandas as pd\n",
        "sns.set_theme(style='whitegrid')\n",
        "df = sns.load_dataset('titanic')\n",
        "print(df.shape)\n",
        "df.head()"
      ],
      "id": "C0wPAE9mTVHa",
      "execution_count": null,
      "outputs": []
    },
    {
      "cell_type": "markdown",
      "metadata": {
        "id": "AZKq4JmjTVHb"
      },
      "source": [
        "## 1 Passenger-class distribution"
      ],
      "id": "AZKq4JmjTVHb"
    },
    {
      "cell_type": "code",
      "metadata": {
        "id": "ZLuUzX6ITVHb"
      },
      "source": [
        "plt.figure(figsize=(6,4))\n",
        "sns.countplot(data=df, x='pclass', palette='viridis')\n",
        "plt.title('Passenger class distribution')\n",
        "plt.tight_layout(); plt.show()"
      ],
      "id": "ZLuUzX6ITVHb",
      "execution_count": null,
      "outputs": []
    },
    {
      "cell_type": "markdown",
      "metadata": {
        "id": "akkLw-G8TVHc"
      },
      "source": [
        "## 2 Survival rate by Sex × Pclass"
      ],
      "id": "akkLw-G8TVHc"
    },
    {
      "cell_type": "code",
      "metadata": {
        "id": "moe7vGheTVHc"
      },
      "source": [
        "pivot = pd.crosstab(df['sex'], df['pclass'], df['survived'], aggfunc='mean')\n",
        "sns.heatmap(pivot, annot=True, fmt='.2f', cmap='Blues')\n",
        "plt.title('Survival rate by Sex and Pclass'); plt.tight_layout(); plt.show()"
      ],
      "id": "moe7vGheTVHc",
      "execution_count": null,
      "outputs": []
    },
    {
      "cell_type": "markdown",
      "metadata": {
        "id": "hA3EMX7JTVHd"
      },
      "source": [
        "## 3 Age distribution (survived vs not)"
      ],
      "id": "hA3EMX7JTVHd"
    },
    {
      "cell_type": "code",
      "metadata": {
        "id": "IU7cctSQTVHd"
      },
      "source": [
        "g = sns.FacetGrid(df, col='survived', height=4, aspect=1.2)\n",
        "g.map_dataframe(sns.histplot, x='age', bins=20, kde=True, color='steelblue')\n",
        "g.set_titles(col_template='Survived = {col_name}'); g.set_axis_labels('Age','Count'); plt.tight_layout()"
      ],
      "id": "IU7cctSQTVHd",
      "execution_count": null,
      "outputs": []
    },
    {
      "cell_type": "markdown",
      "metadata": {
        "id": "9ATdINjVTVHd"
      },
      "source": [
        "## 4 Fare distribution by class (log scale)"
      ],
      "id": "9ATdINjVTVHd"
    },
    {
      "cell_type": "code",
      "metadata": {
        "id": "N_D7BQkJTVHd"
      },
      "source": [
        "sns.boxplot(data=df, x='pclass', y='fare', palette='Set2')\n",
        "plt.yscale('log'); plt.title('Fare distribution by Pclass (log)'); plt.tight_layout(); plt.show()"
      ],
      "id": "N_D7BQkJTVHd",
      "execution_count": null,
      "outputs": []
    },
    {
      "cell_type": "markdown",
      "metadata": {
        "id": "QRV8KVtrTVHd"
      },
      "source": [
        "## 5 Embarkation ports"
      ],
      "id": "QRV8KVtrTVHd"
    },
    {
      "cell_type": "code",
      "metadata": {
        "id": "6JgM3mROTVHd"
      },
      "source": [
        "sns.countplot(data=df, x='embarked', palette='pastel')\n",
        "plt.title('Embarkation port counts'); plt.tight_layout(); plt.show()"
      ],
      "id": "6JgM3mROTVHd",
      "execution_count": null,
      "outputs": []
    },
    {
      "cell_type": "markdown",
      "metadata": {
        "id": "t08Mbrm2TVHd"
      },
      "source": [
        "## 6 Family size distribution"
      ],
      "id": "t08Mbrm2TVHd"
    },
    {
      "cell_type": "code",
      "metadata": {
        "id": "bx6wyZqcTVHd"
      },
      "source": [
        "df_fs = df.copy(); df_fs['family_size'] = df_fs['sibsp'] + df_fs['parch'] + 1\n",
        "sns.countplot(data=df_fs, x='family_size', palette='crest')\n",
        "plt.title('Family size distribution'); plt.tight_layout(); plt.show()"
      ],
      "id": "bx6wyZqcTVHd",
      "execution_count": null,
      "outputs": []
    },
    {
      "cell_type": "markdown",
      "metadata": {
        "id": "ODtUaQ9fTVHd"
      },
      "source": [
        "## 7 Numeric correlation heat-map"
      ],
      "id": "ODtUaQ9fTVHd"
    },
    {
      "cell_type": "code",
      "metadata": {
        "id": "JgBHh6wWTVHd"
      },
      "source": [
        "numeric = df.select_dtypes('number')\n",
        "sns.heatmap(numeric.corr(), cmap='coolwarm', center=0)\n",
        "plt.title('Correlation matrix (numeric features)'); plt.tight_layout(); plt.show()"
      ],
      "id": "JgBHh6wWTVHd",
      "execution_count": null,
      "outputs": []
    }
  ],
  "metadata": {
    "kernelspec": {
      "display_name": "Python 3",
      "language": "python",
      "name": "python3"
    },
    "language_info": {
      "name": "python"
    },
    "colab": {
      "provenance": []
    }
  },
  "nbformat": 4,
  "nbformat_minor": 5
}